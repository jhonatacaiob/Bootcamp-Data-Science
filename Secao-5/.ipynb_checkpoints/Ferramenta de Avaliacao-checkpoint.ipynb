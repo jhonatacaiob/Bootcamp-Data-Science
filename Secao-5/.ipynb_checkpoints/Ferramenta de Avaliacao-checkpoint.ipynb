{
 "cells": [
  {
   "cell_type": "code",
   "execution_count": 1,
   "metadata": {},
   "outputs": [],
   "source": [
    "from sklearn.datasets import load_boston\n",
    "from sklearn.linear_model import LinearRegression\n",
    "from sklearn.metrics import mean_squared_error\n",
    "\n",
    "import pandas as pd\n",
    "import numpy as np"
   ]
  },
  {
   "cell_type": "code",
   "execution_count": 15,
   "metadata": {},
   "outputs": [
    {
     "data": {
      "text/html": [
       "<div>\n",
       "<style scoped>\n",
       "    .dataframe tbody tr th:only-of-type {\n",
       "        vertical-align: middle;\n",
       "    }\n",
       "\n",
       "    .dataframe tbody tr th {\n",
       "        vertical-align: top;\n",
       "    }\n",
       "\n",
       "    .dataframe thead th {\n",
       "        text-align: right;\n",
       "    }\n",
       "</style>\n",
       "<table border=\"1\" class=\"dataframe\">\n",
       "  <thead>\n",
       "    <tr style=\"text-align: right;\">\n",
       "      <th></th>\n",
       "      <th>PRICE</th>\n",
       "    </tr>\n",
       "  </thead>\n",
       "  <tbody>\n",
       "    <tr>\n",
       "      <th>0</th>\n",
       "      <td>3.178054</td>\n",
       "    </tr>\n",
       "    <tr>\n",
       "      <th>1</th>\n",
       "      <td>3.072693</td>\n",
       "    </tr>\n",
       "    <tr>\n",
       "      <th>2</th>\n",
       "      <td>3.546740</td>\n",
       "    </tr>\n",
       "    <tr>\n",
       "      <th>3</th>\n",
       "      <td>3.508556</td>\n",
       "    </tr>\n",
       "    <tr>\n",
       "      <th>4</th>\n",
       "      <td>3.589059</td>\n",
       "    </tr>\n",
       "    <tr>\n",
       "      <th>...</th>\n",
       "      <td>...</td>\n",
       "    </tr>\n",
       "    <tr>\n",
       "      <th>501</th>\n",
       "      <td>3.109061</td>\n",
       "    </tr>\n",
       "    <tr>\n",
       "      <th>502</th>\n",
       "      <td>3.025291</td>\n",
       "    </tr>\n",
       "    <tr>\n",
       "      <th>503</th>\n",
       "      <td>3.173878</td>\n",
       "    </tr>\n",
       "    <tr>\n",
       "      <th>504</th>\n",
       "      <td>3.091042</td>\n",
       "    </tr>\n",
       "    <tr>\n",
       "      <th>505</th>\n",
       "      <td>2.476538</td>\n",
       "    </tr>\n",
       "  </tbody>\n",
       "</table>\n",
       "<p>506 rows × 1 columns</p>\n",
       "</div>"
      ],
      "text/plain": [
       "        PRICE\n",
       "0    3.178054\n",
       "1    3.072693\n",
       "2    3.546740\n",
       "3    3.508556\n",
       "4    3.589059\n",
       "..        ...\n",
       "501  3.109061\n",
       "502  3.025291\n",
       "503  3.173878\n",
       "504  3.091042\n",
       "505  2.476538\n",
       "\n",
       "[506 rows x 1 columns]"
      ]
     },
     "execution_count": 15,
     "metadata": {},
     "output_type": "execute_result"
    }
   ],
   "source": [
    "boston_dataset = load_boston()\n",
    "boston_dataset\n",
    "\n",
    "dados = pd.DataFrame(data= boston_dataset.data, columns= boston_dataset.feature_names)\n",
    "dados = dados.drop(['INDUS', 'CHAS'], axis= 1)\n",
    "\n",
    "log_precos = np.log(boston_dataset.target)\n",
    "objetivo = pd.DataFrame(data= log_precos, columns= ['PRICE'])"
   ]
  },
  {
   "cell_type": "code",
   "execution_count": 47,
   "metadata": {},
   "outputs": [
    {
     "data": {
      "text/plain": [
       "array([[  3.61352356,  11.36363636,   0.55469506,   6.28463439,\n",
       "         68.57490119,   3.79504269,   9.54940711, 408.23715415,\n",
       "         18.4555336 , 356.67403162,  12.65306324]])"
      ]
     },
     "execution_count": 47,
     "metadata": {},
     "output_type": "execute_result"
    }
   ],
   "source": [
    "CRIME_IDX = 0\n",
    "ZN_IDX = 1\n",
    "CHAS_IDX = 2\n",
    "\n",
    "RM_IDX = 4\n",
    "PTRATIO_IDX = 8\n",
    "\n",
    "casa_stat = np.ndarray(shape= (1, 11))\n",
    "casa_stat = dados.mean().values.reshape(1,11)\n",
    "\n",
    "casa_stat"
   ]
  },
  {
   "cell_type": "code",
   "execution_count": 63,
   "metadata": {},
   "outputs": [
    {
     "name": "stdout",
     "output_type": "stream",
     "text": [
      "MSE:  0.03581044538488344\n",
      "RMSE:  0.18923648005837415\n"
     ]
    }
   ],
   "source": [
    "regr = LinearRegression().fit(dados, objetivo)\n",
    "\n",
    "previsto = regr.predict(dados)\n",
    "\n",
    "MSE = mean_squared_error(objetivo, previsto, squared= True)\n",
    "RMSE = mean_squared_error(objetivo, previsto, squared= False)\n",
    "\n",
    "print(\"MSE: \", MSE)\n",
    "print(\"RMSE: \", RMSE)"
   ]
  },
  {
   "cell_type": "code",
   "execution_count": 75,
   "metadata": {},
   "outputs": [],
   "source": [
    "def obter_estimativa_log(n_quartos,\n",
    "                    estudantes_por_turma,\n",
    "                    proximo_rio= False,\n",
    "                   alta_fidelidade= True):\n",
    "    #Configurando\n",
    "    \n",
    "    casa_stat[0][RM_IDX] = n_quartos\n",
    "    casa_stat[0][PTRATIO_IDX] = estudantes_por_turma\n",
    "    casa_stat[0][CHAS_IDX] = proximo_rio\n",
    "    \n",
    "    \n",
    "    # Prevendo\n",
    "    \n",
    "    estimativa_log = regr.predict(casa_stat)[0][0]\n",
    "    if(alta_fidelidade):\n",
    "        margem_acima = estimativa_log + 2*RMSE\n",
    "        margem_abaixo = estimativa_log - 2*RMSE\n",
    "        intervalo = 95\n",
    "    else:\n",
    "        margem_acima = estimativa_log + RMSE\n",
    "        margem_abaixo = estimativa_log - RMSE\n",
    "        intervalo = 68\n",
    "    \n",
    "    \n",
    "    return estimativa_log, margem_acima, margem_abaixo, intervalo"
   ]
  },
  {
   "cell_type": "code",
   "execution_count": 77,
   "metadata": {},
   "outputs": [],
   "source": [
    "ZILLOW_MEDIAN_PRICE = 583.3\n",
    "FATOR = ZILLOW_MEDIAN_PRICE / np.median(boston_dataset.target)\n",
    "\n",
    "estimativa_log, acima, abaixo, intervalo = obter_estimativa_log(9,\n",
    "                                                                estudantes_por_turma= 15,\n",
    "                                                                proximo_rio= False,\n",
    "                                                                alta_fidelidade= False)\n",
    "\n"
   ]
  },
  {
   "cell_type": "code",
   "execution_count": 78,
   "metadata": {},
   "outputs": [
    {
     "data": {
      "text/plain": [
       "<function __main__.obter_em_dolar_atuais(rm, ptratio, chas=False, large_range=True)>"
      ]
     },
     "execution_count": 78,
     "metadata": {},
     "output_type": "execute_result"
    }
   ],
   "source": [
    "obter_em_dolar"
   ]
  },
  {
   "cell_type": "code",
   "execution_count": null,
   "metadata": {},
   "outputs": [],
   "source": []
  }
 ],
 "metadata": {
  "kernelspec": {
   "display_name": "Python 3",
   "language": "python",
   "name": "python3"
  },
  "language_info": {
   "codemirror_mode": {
    "name": "ipython",
    "version": 3
   },
   "file_extension": ".py",
   "mimetype": "text/x-python",
   "name": "python",
   "nbconvert_exporter": "python",
   "pygments_lexer": "ipython3",
   "version": "3.8.5"
  }
 },
 "nbformat": 4,
 "nbformat_minor": 4
}
